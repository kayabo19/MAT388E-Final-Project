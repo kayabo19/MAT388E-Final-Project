{
 "cells": [
  {
   "cell_type": "markdown",
   "metadata": {},
   "source": [
    "          Turkey's Inflation Analysis\n",
    "\n",
    "Team Members\n",
    "\n",
    "Bora Kaya\n",
    "\n",
    "In this project I am going to analysis Turkey's inflation with 5 parameters.\n",
    "My depended variable is inflation obviously,and undepended variables are exchange rates,interest rate,money supply,producer inflation,core inflation.First of all,I gonna visualize these datas.\n",
    "Then,I am planning to these models to identify the model that best explains inflation:Linear Regression,Decision Tree Regressor,Random Forest Regressor,,K Neighbor Regressor,Support Vector.\n",
    "\n",
    "After these steps I gonna visualize these models scores to show best model.\n",
    "\n",
    "Datasets\n",
    "\n",
    "Inflation:https://data.tuik.gov.tr/Bulten/Index?p=Tuketici-Fiyat-Endeksi-Ekim-2022-45799(I will use TÜİK's last inflation report.)\n",
    "\n",
    "Exchange Rate:https://tr.investing.com/currencies/usd-try-historical-data(I will use monthly average usd/try rate)\n",
    "\n",
    "Money Supply:https://evds2.tcmb.gov.tr/index.php?/evds/serieMarket/#collapse_4(I will use Turkey Central Bank website.I selected \"Haftalık Para Arzı\" and downloaded the report.I will use monthly money supply.)\n",
    "\n",
    "Interest Rate:https://evds2.tcmb.gov.tr/index.php?/evds/dashboard/1441( Selected Weighted Average Cost of the CBRT Funding and Total Funding)\n",
    "\n",
    "Core Inflation:https://data.tuik.gov.tr/Bulten/Index?p=Tuketici-Fiyat-Endeksi-Ekim-2022-45799(I will use groupc C in table special comprehensive CPI indicators.)\n",
    "\n",
    "\n"
   ]
  }
 ],
 "metadata": {
  "kernelspec": {
   "display_name": "Python 3.10.7 64-bit",
   "language": "python",
   "name": "python3"
  },
  "language_info": {
   "codemirror_mode": {
    "name": "ipython",
    "version": 3
   },
   "file_extension": ".py",
   "mimetype": "text/x-python",
   "name": "python",
   "nbconvert_exporter": "python",
   "pygments_lexer": "ipython3",
   "version": "3.10.7"
  },
  "orig_nbformat": 4,
  "vscode": {
   "interpreter": {
    "hash": "ade2a71426cf688071da39c024d0e7b684c178f0539a65739e48cb1bc0ce10b5"
   }
  }
 },
 "nbformat": 4,
 "nbformat_minor": 2
}
